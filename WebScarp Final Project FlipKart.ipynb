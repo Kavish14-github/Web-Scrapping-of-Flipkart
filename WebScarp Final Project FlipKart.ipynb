{
 "cells": [
  {
   "cell_type": "code",
   "execution_count": 1,
   "id": "9fa2b598",
   "metadata": {},
   "outputs": [],
   "source": [
    "import requests\n",
    "import bs4\n",
    "import smtplib\n",
    "import getpass"
   ]
  },
  {
   "cell_type": "code",
   "execution_count": 3,
   "id": "2c062570",
   "metadata": {
    "scrolled": true
   },
   "outputs": [
    {
     "name": "stdout",
     "output_type": "stream",
     "text": [
      "Enter your budget for the laptop:30000\n"
     ]
    },
    {
     "ename": "IndexError",
     "evalue": "list index out of range",
     "output_type": "error",
     "traceback": [
      "\u001b[1;31m---------------------------------------------------------------------------\u001b[0m",
      "\u001b[1;31mIndexError\u001b[0m                                Traceback (most recent call last)",
      "Cell \u001b[1;32mIn[3], line 16\u001b[0m\n\u001b[0;32m     14\u001b[0m soup \u001b[38;5;241m=\u001b[39m bs4\u001b[38;5;241m.\u001b[39mBeautifulSoup(res\u001b[38;5;241m.\u001b[39mtext,\u001b[38;5;124m'\u001b[39m\u001b[38;5;124mlxml\u001b[39m\u001b[38;5;124m'\u001b[39m)\n\u001b[0;32m     15\u001b[0m \u001b[38;5;28;01mfor\u001b[39;00m i \u001b[38;5;129;01min\u001b[39;00m \u001b[38;5;28mrange\u001b[39m(\u001b[38;5;241m0\u001b[39m,\u001b[38;5;241m2\u001b[39m):\n\u001b[1;32m---> 16\u001b[0m     name \u001b[38;5;241m=\u001b[39m soup\u001b[38;5;241m.\u001b[39mselect(\u001b[38;5;124m\"\u001b[39m\u001b[38;5;124m._4rR01T\u001b[39m\u001b[38;5;124m\"\u001b[39m)[i]\u001b[38;5;241m.\u001b[39mtext\n\u001b[0;32m     17\u001b[0m     price \u001b[38;5;241m=\u001b[39m soup\u001b[38;5;241m.\u001b[39mselect(\u001b[38;5;124m\"\u001b[39m\u001b[38;5;124m._30jeq3\u001b[39m\u001b[38;5;124m\"\u001b[39m)[i]\u001b[38;5;241m.\u001b[39mtext\n\u001b[0;32m     18\u001b[0m     info \u001b[38;5;241m=\u001b[39m soup\u001b[38;5;241m.\u001b[39mselect(\u001b[38;5;124m\"\u001b[39m\u001b[38;5;124m.rgWa7D\u001b[39m\u001b[38;5;124m\"\u001b[39m)[i]\u001b[38;5;241m.\u001b[39mtext\n",
      "\u001b[1;31mIndexError\u001b[0m: list index out of range"
     ]
    }
   ],
   "source": [
    "L_Name = []\n",
    "L_Price = []\n",
    "L_Info = []\n",
    "#L_Rating = []\n",
    "#L_Final = [(),()]\n",
    "Budget = int(input(\"Enter your budget for the laptop:\"))\n",
    "for n in range(0,1):\n",
    "    base_link = 'https://www.flipkart.com/search?q=laptop&sid=6bo%2Cb5g&as=on&as-show=on&otracker=AS_QueryStore_OrganicAutoSuggest_1_3_na_na_na&otracker1=AS_QueryStore_OrganicAutoSuggest_1_3_na_na_na&as-pos=1&as-type=RECENT&suggestionId=laptop%7CLaptops&requestId=2ec9abb8-ccde-418e-bd30-3455cd7db59b&as-backfill=on&page={}'\n",
    "    scrape_link = base_link.format(n)\n",
    "    \n",
    "    res = requests.get(scrape_link)\n",
    "   \n",
    "    \n",
    "    soup = bs4.BeautifulSoup(res.text,'lxml')\n",
    "    for i in range(0,2):\n",
    "        name = soup.select(\"._4rR01T\")[i].text\n",
    "        price = soup.select(\"._30jeq3\")[i].text\n",
    "        info = soup.select(\".rgWa7D\")[i].text\n",
    "        #rating = soup.select(\"._3LWZIK\")[i].text\n",
    "        \n",
    "        \n",
    "        \n",
    "        remove_symbol = price.replace('₹','')\n",
    "        Price = remove_symbol.replace(',', '')\n",
    "        Price_value = float(Price)\n",
    "        \n",
    "        \n",
    "       \n",
    "        if Price_value <= Budget:\n",
    "            L_Name.append(name)\n",
    "            L_Price.append(Price_value)\n",
    "            L_Info.append(info)\n",
    "           # L_Rating.append(rating)\n",
    "            \n",
    "            #L_Final[i] =[L_Name,L_Price]\n",
    "Length = int(len(L_Price))\n",
    "for j in range(Length):\n",
    "    print('')\n",
    "    print('Model Name :' , L_Name[j])\n",
    "    print('')\n",
    "    print('Price :' , L_Price[j])\n",
    "    #print('')\n",
    "    #print('Rating : ',L_Rating[j])\n",
    "    print('')\n",
    "    \n",
    "    print(L_Info)\n",
    "    print('')\n",
    "    print('')\n",
    "\n",
    "    \n",
    "#EMAIL    \n",
    "#smtp_object = smtplib.SMTP('smtp.gmail.com',587)\n",
    "#smtp_object.ehlo()\n",
    "#smtp_object.starttls()\n",
    "\n",
    "#email = getpass.getpass(\"Email :\")\n",
    "#password = getpass.getpass(\"Password :\")\n",
    "#smtp_object.login(email,password)\n",
    "    \n",
    "    \n",
    "#from_address = 'kavishkhatri23@gmail.com'\n",
    "#to_address = 'kavishkhatri23@gmail.com'\n",
    "#subject = input('Enter the subject :')\n",
    "#message = input('Enter the body :')\n",
    "\n",
    "#msg = L_Name\n",
    "#smtp_object.sendmail(from_address,to_address,msg)\n",
    "\n"
   ]
  },
  {
   "cell_type": "code",
   "execution_count": null,
   "id": "bef63f1f",
   "metadata": {},
   "outputs": [],
   "source": [
    "smtp_object = smtplib.SMTP('smtp.gmail.com',587)"
   ]
  },
  {
   "cell_type": "code",
   "execution_count": null,
   "id": "e1938545",
   "metadata": {},
   "outputs": [],
   "source": [
    "smtp_object.ehlo()\n"
   ]
  },
  {
   "cell_type": "code",
   "execution_count": null,
   "id": "745d7724",
   "metadata": {},
   "outputs": [],
   "source": [
    "smtp_object.starttls()"
   ]
  },
  {
   "cell_type": "code",
   "execution_count": null,
   "id": "0117b536",
   "metadata": {},
   "outputs": [],
   "source": [
    "email = getpass.getpass(\"Email :\")\n",
    "password = getpass.getpass(\"Password :\")\n",
    "smtp_object.login(email,password)"
   ]
  },
  {
   "cell_type": "code",
   "execution_count": null,
   "id": "bc8f3895",
   "metadata": {},
   "outputs": [],
   "source": [
    "from_address = 'kavishkhatri23@gmail.com'\n",
    "to_address = 'kavishkhatri23@gmail.com'\n",
    "subject = 'Flipkart laptop filtering'\n",
    "message = 'All the laptops within your range are displayed below :'\n",
    "\n",
    "listToStr = '\\n'.join([str(elem) for elem in L_Name])\n",
    "#msg = listToStr\n",
    "\n",
    "msg = \"Subject :\"+subject+'\\n'+listToStr\n",
    "smtp_object.sendmail(from_address,to_address,msg)"
   ]
  },
  {
   "cell_type": "code",
   "execution_count": null,
   "id": "7cacef2c",
   "metadata": {},
   "outputs": [],
   "source": []
  }
 ],
 "metadata": {
  "kernelspec": {
   "display_name": "Python 3 (ipykernel)",
   "language": "python",
   "name": "python3"
  },
  "language_info": {
   "codemirror_mode": {
    "name": "ipython",
    "version": 3
   },
   "file_extension": ".py",
   "mimetype": "text/x-python",
   "name": "python",
   "nbconvert_exporter": "python",
   "pygments_lexer": "ipython3",
   "version": "3.11.3"
  }
 },
 "nbformat": 4,
 "nbformat_minor": 5
}
